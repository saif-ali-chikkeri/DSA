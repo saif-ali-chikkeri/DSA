{
 "cells": [
  {
   "cell_type": "code",
   "execution_count": 1,
   "id": "2e6a9dee-2e9d-40e3-ae84-2b8caf9d6db0",
   "metadata": {},
   "outputs": [
    {
     "name": "stdout",
     "output_type": "stream",
     "text": [
      "True\n"
     ]
    }
   ],
   "source": [
    "#1\n",
    "def contains_duplicates(arr):\n",
    "    #convert the array to a set to remove duplicates \n",
    "    unique_elements = set(arr)\n",
    "    \n",
    "    #compare the length of the original array  and the set \n",
    "    if len(arr) !=  len(unique_elements):\n",
    "        return True\n",
    "    else:\n",
    "        return False\n",
    "#example usage\n",
    "arr = [1,2,4,2,5,9]\n",
    "result = contains_duplicates(arr)\n",
    "print(result)"
   ]
  },
  {
   "cell_type": "code",
   "execution_count": 2,
   "id": "76f038a1-9241-440a-8a73-8c9cdadd0d7b",
   "metadata": {},
   "outputs": [
    {
     "name": "stdout",
     "output_type": "stream",
     "text": [
      "[5, 6, 7, 1, 2, 3, 4]\n"
     ]
    }
   ],
   "source": [
    "#2\n",
    "def rotate_array(arr,k):\n",
    "    n=len(arr)\n",
    "    \n",
    "    #handle cases where k is larger than the array length \n",
    "    k = k % n\n",
    "    \n",
    "    #perform the rotation using slicing \n",
    "    rotated = arr[-k:]+ arr[:-k]\n",
    "    return rotated\n",
    "#example usage \n",
    "arr = [1,2,3,4,5,6,7]\n",
    "k = 3\n",
    "result = rotate_array(arr,k)\n",
    "print(result)"
   ]
  },
  {
   "cell_type": "code",
   "execution_count": null,
   "id": "960b5da2-6503-4189-8b29-4ccf2ac03096",
   "metadata": {},
   "outputs": [],
   "source": [
    "#3\n",
    "def reverse_array_in_place(arr):\n",
    "    left = 0 \n",
    "    right = len(arr) - 1\n",
    "    while left < right:\n",
    "        #swap the elements at the lft abd right pointers \n",
    "        arr[left],arr[right] = arr[right],arr[left]\n",
    "        left += 1\n",
    "        right-= 1\n",
    "#example usage \n",
    "arr = [2,4,5,7,9,12]\n",
    "reverse_array_in_place(arr)\n",
    "print(arr)"
   ]
  },
  {
   "cell_type": "code",
   "execution_count": null,
   "id": "8d5b78cc-f160-4d7c-a8d6-54862b71c014",
   "metadata": {},
   "outputs": [],
   "source": [
    "#4\n",
    "arr =[10,5,20,8,15]\n",
    "max_element = max(arr)\n",
    "print(\"maximum element in the array:\",max_element)"
   ]
  },
  {
   "cell_type": "code",
   "execution_count": null,
   "id": "837cfa44-3496-4205-86e9-e240c46cd84f",
   "metadata": {},
   "outputs": [],
   "source": [
    "#5\n",
    "def remove_duplicates(arr):\n",
    "    if not arr:\n",
    "        return []\n",
    "\n",
    "    unique_index = 0\n",
    "\n",
    "    for i in range(1, len(arr)):\n",
    "        if arr[i] != arr[unique_index]:\n",
    "            unique_index += 1\n",
    "            arr[unique_index] = arr[i]\n",
    "\n",
    "    return arr[:unique_index + 1]\n",
    "\n",
    "arr = [1, 1, 2, 2, 2, 3, 3, 4, 4, 4, 5, 5]\n",
    "result = remove_duplicates(arr)\n",
    "print(\"Output:\", result"
   ]
  },
  {
   "cell_type": "code",
   "execution_count": null,
   "id": "a7daa1fc-bee9-45df-bdde-ea199e637324",
   "metadata": {},
   "outputs": [],
   "source": []
  }
 ],
 "metadata": {
  "kernelspec": {
   "display_name": "Python 3 (ipykernel)",
   "language": "python",
   "name": "python3"
  },
  "language_info": {
   "codemirror_mode": {
    "name": "ipython",
    "version": 3
   },
   "file_extension": ".py",
   "mimetype": "text/x-python",
   "name": "python",
   "nbconvert_exporter": "python",
   "pygments_lexer": "ipython3",
   "version": "3.10.8"
  }
 },
 "nbformat": 4,
 "nbformat_minor": 5
}
